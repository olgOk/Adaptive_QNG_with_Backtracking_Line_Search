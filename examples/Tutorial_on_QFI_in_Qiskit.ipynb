{
  "nbformat": 4,
  "nbformat_minor": 0,
  "metadata": {
    "colab": {
      "provenance": [],
      "authorship_tag": "ABX9TyPGPw9gYzlB03yeJPqya0GN",
      "include_colab_link": true
    },
    "kernelspec": {
      "name": "python3",
      "display_name": "Python 3"
    },
    "language_info": {
      "name": "python"
    }
  },
  "cells": [
    {
      "cell_type": "markdown",
      "metadata": {
        "id": "view-in-github",
        "colab_type": "text"
      },
      "source": [
        "<a href=\"https://colab.research.google.com/github/olgOk/Adaptive_QNG/blob/main/Tutorial_on_QFI_in_Qiskit.ipynb\" target=\"_parent\"><img src=\"https://colab.research.google.com/assets/colab-badge.svg\" alt=\"Open In Colab\"/></a>"
      ]
    },
    {
      "cell_type": "code",
      "execution_count": null,
      "metadata": {
        "colab": {
          "base_uri": "https://localhost:8080/"
        },
        "id": "uSTTnrTwoJ8b",
        "outputId": "879b9552-fe35-49b3-f2b0-7748a8f42d95"
      },
      "outputs": [
        {
          "output_type": "stream",
          "name": "stdout",
          "text": [
            "  Preparing metadata (setup.py) ... \u001b[?25l\u001b[?25hdone\n",
            "\u001b[2K     \u001b[90m━━━━━━━━━━━━━━━━━━━━━━━━━━━━━━━━━━━━━━━━\u001b[0m \u001b[32m5.1/5.1 MB\u001b[0m \u001b[31m22.1 MB/s\u001b[0m eta \u001b[36m0:00:00\u001b[0m\n",
            "\u001b[2K     \u001b[90m━━━━━━━━━━━━━━━━━━━━━━━━━━━━━━━━━━━━━━━━\u001b[0m \u001b[32m12.8/12.8 MB\u001b[0m \u001b[31m19.4 MB/s\u001b[0m eta \u001b[36m0:00:00\u001b[0m\n",
            "\u001b[2K     \u001b[90m━━━━━━━━━━━━━━━━━━━━━━━━━━━━━━━━━━━━━━━\u001b[0m \u001b[32m240.4/240.4 KB\u001b[0m \u001b[31m6.2 MB/s\u001b[0m eta \u001b[36m0:00:00\u001b[0m\n",
            "\u001b[2K     \u001b[90m━━━━━━━━━━━━━━━━━━━━━━━━━━━━━━━━━━━━━━━━\u001b[0m \u001b[32m55.9/55.9 KB\u001b[0m \u001b[31m2.9 MB/s\u001b[0m eta \u001b[36m0:00:00\u001b[0m\n",
            "\u001b[2K     \u001b[90m━━━━━━━━━━━━━━━━━━━━━━━━━━━━━━━━━━━━━━━\u001b[0m \u001b[32m107.0/107.0 KB\u001b[0m \u001b[31m4.9 MB/s\u001b[0m eta \u001b[36m0:00:00\u001b[0m\n",
            "\u001b[2K     \u001b[90m━━━━━━━━━━━━━━━━━━━━━━━━━━━━━━━━━━━━━━━━\u001b[0m \u001b[32m49.6/49.6 KB\u001b[0m \u001b[31m3.3 MB/s\u001b[0m eta \u001b[36m0:00:00\u001b[0m\n",
            "\u001b[2K     \u001b[90m━━━━━━━━━━━━━━━━━━━━━━━━━━━━━━━━━━━━━━━━\u001b[0m \u001b[32m37.5/37.5 MB\u001b[0m \u001b[31m13.5 MB/s\u001b[0m eta \u001b[36m0:00:00\u001b[0m\n",
            "\u001b[2K     \u001b[90m━━━━━━━━━━━━━━━━━━━━━━━━━━━━━━━━━━━━━━━━\u001b[0m \u001b[32m50.0/50.0 KB\u001b[0m \u001b[31m2.9 MB/s\u001b[0m eta \u001b[36m0:00:00\u001b[0m\n",
            "\u001b[2K     \u001b[90m━━━━━━━━━━━━━━━━━━━━━━━━━━━━━━━━━━━━━━━━\u001b[0m \u001b[32m1.9/1.9 MB\u001b[0m \u001b[31m44.6 MB/s\u001b[0m eta \u001b[36m0:00:00\u001b[0m\n",
            "\u001b[2K     \u001b[90m━━━━━━━━━━━━━━━━━━━━━━━━━━━━━━━━━━━━━━━━\u001b[0m \u001b[32m4.2/4.2 MB\u001b[0m \u001b[31m39.7 MB/s\u001b[0m eta \u001b[36m0:00:00\u001b[0m\n",
            "\u001b[2K     \u001b[90m━━━━━━━━━━━━━━━━━━━━━━━━━━━━━━━━━━━━━━━\u001b[0m \u001b[32m112.7/112.7 KB\u001b[0m \u001b[31m6.4 MB/s\u001b[0m eta \u001b[36m0:00:00\u001b[0m\n",
            "\u001b[?25h  Building wheel for qiskit (setup.py) ... \u001b[?25l\u001b[?25hdone\n"
          ]
        }
      ],
      "source": [
        "!python3 -m pip install -q qiskit"
      ]
    },
    {
      "cell_type": "code",
      "source": [
        "from qiskit.algorithms import gradients\n",
        "\n",
        "import numpy as np\n",
        "\n",
        "#Operator Imports\n",
        "from qiskit.opflow import Z, X, I, StateFn, CircuitStateFn, SummedOp\n",
        "from qiskit.opflow.gradients import Gradient, NaturalGradient, QFI, Hessian\n",
        "\n",
        "#Circuit imports\n",
        "from qiskit.circuit import QuantumCircuit, QuantumRegister, Parameter, ParameterVector, ParameterExpression\n",
        "from qiskit.circuit.library import EfficientSU2"
      ],
      "metadata": {
        "id": "-7--IzMVq0ml"
      },
      "execution_count": null,
      "outputs": []
    },
    {
      "cell_type": "markdown",
      "source": [
        "The QFI is available in different modules of Qiskit\n",
        "\n",
        "1. In  ```qiskit.oplow ``` (https://github.com/Qiskit/qiskit-terra/blob/main/qiskit/opflow/gradients/qfi.py)\n",
        "\n",
        "2. ```qiskit.algorithms.gradients ``` (https://github.com/Qiskit/qiskit-terra/blob/9eb6c9bdeb07cdbbcfd549976ab79988980ad71b/qiskit/algorithms/gradients/qfi.py)\n",
        "\n",
        "\n",
        "The version in Opflow module seems to be a high level wrapper on ```qiskit.algorithms.gradients.gfi``` implemented with  Qiskit primitives. \n",
        "\n",
        "\n",
        "\n"
      ],
      "metadata": {
        "id": "gVpFZMLLBDzQ"
      }
    },
    {
      "cell_type": "markdown",
      "source": [
        "# Example. Calculating QFI of an H molecule."
      ],
      "metadata": {
        "id": "p48yNsL7Ee2T"
      }
    },
    {
      "cell_type": "markdown",
      "source": [
        "## Illustrative Example from the AQNGD Research Paper\n",
        "\n",
        "As the QFI is calculated on the parametrized circuit, the expression for the Hamiltonian could be ommited. \n",
        "\n",
        "The following code demonstrates the calculation of the QFI for the two qubits parametrized circuit depicted below. \n",
        "![Screen Shot 2023-01-26 at 8.13.01 PM.png](data:image/png;base64,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)\n",
        "\n",
        "\n",
        "*Note:* The Fubini-Study metric is four times the QFI matrix."
      ],
      "metadata": {
        "id": "QhH1UmpCabir"
      }
    },
    {
      "cell_type": "markdown",
      "source": [
        "The QFI class support the following pre-defined methods of calculation: ``'lin_comb_full'``, ``'overlap_diag'`` or ``'overlap_block_diag'``.\n",
        "\n",
        "The proposed starting initial values of the parameters are $\\theta_1 = -0.1$ and $\\theta_2=-0.2$. "
      ],
      "metadata": {
        "id": "Cp1x6dYFcOKz"
      }
    },
    {
      "cell_type": "code",
      "source": [
        "from qiskit.opflow import X, Z, I\n",
        "from qiskit.circuit.library import RealAmplitudes\n",
        "\n",
        "H_model = (0.4 * I ^ Z) + (0.4 * Z ^ I) + (0.2 * X ^ X)"
      ],
      "metadata": {
        "id": "Snr5t7es3UrI"
      },
      "execution_count": null,
      "outputs": []
    },
    {
      "cell_type": "code",
      "source": [
        "# constract the ansatz\n",
        "theta1 = Parameter('theta1')\n",
        "theta2 = Parameter('theta2')\n",
        "q = QuantumRegister(2)\n",
        "qc = QuantumCircuit(q)\n",
        "qc.ry(theta1, q[0])\n",
        "qc.ry(theta2, q[1])\n",
        "qc.cx(q[0],q[1])\n",
        "params = [theta1, theta2]\n",
        "\n",
        "op = ~StateFn(H_model) @ CircuitStateFn(primitive=qc, coeff=1.)\n",
        "\n",
        "# define and compute the QFI\n",
        "state = CircuitStateFn(primitive=qc, coeff=1.)\n",
        "qfi = QFI(qfi_method='lin_comb_full').convert(operator=state, params=params)\n",
        "\n",
        "values_dict = {theta1:-0.1, theta2:-0.2}\n",
        "\n",
        "# Assign the parameters and evaluate the QFI\n",
        "qfi_result = qfi.assign_parameters(values_dict).eval()\n",
        "print('full QFI \\n', 0.25*np.real(np.array(qfi_result)))"
      ],
      "metadata": {
        "colab": {
          "base_uri": "https://localhost:8080/"
        },
        "id": "rAUOZm88DGvH",
        "outputId": "b50f355e-f547-4d7c-aa33-5dead4138208"
      },
      "execution_count": null,
      "outputs": [
        {
          "output_type": "stream",
          "name": "stdout",
          "text": [
            "full QFI \n",
            " [[0.25 0.  ]\n",
            " [0.   0.25]]\n"
          ]
        }
      ]
    }
  ]
}